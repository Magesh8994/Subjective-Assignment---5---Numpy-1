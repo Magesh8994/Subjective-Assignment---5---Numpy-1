{
 "cells": [
  {
   "cell_type": "markdown",
   "metadata": {},
   "source": [
    "# Assignment"
   ]
  },
  {
   "cell_type": "markdown",
   "metadata": {},
   "source": [
    "Q1. Create two arrays of six elements. Write the NumPy program to\n",
    "count the number of instances of a value occurring in one array on\n",
    "the condition of another array.\n",
    "\n",
    "    Sample OutputOriginal arrays-\n",
    "    [ 10 -10 10 -10 -10 10]\n",
    "    [0.85 0.45 0.9 0.8 0.12 0.6 ]\n",
    "    Number of instances of a value occurring in one array on the condition of another\n",
    "    array: 3\n"
   ]
  },
  {
   "cell_type": "code",
   "execution_count": 14,
   "metadata": {},
   "outputs": [],
   "source": [
    "# Importing Libraries\n",
    "import numpy as np\n",
    "from ast import literal_eval\n"
   ]
  },
  {
   "cell_type": "code",
   "execution_count": 18,
   "metadata": {},
   "outputs": [
    {
     "name": "stdout",
     "output_type": "stream",
     "text": [
      "Original arrays:\n",
      "[ 10 -10  10 -10 -10  10]\n",
      "[0.85 0.45 0.9  0.8  0.12 0.6 ]\n",
      "\n",
      "Number of instances of a value occurring in one array on the condition of another\n",
      "array:  3\n"
     ]
    }
   ],
   "source": [
    "num1 = np.array([10,-10,10,-10,-10,10])\n",
    "num2 = np.array([.85,.45,.9,.8,.12,.6])\n",
    "print(\"Original arrays:\")\n",
    "print(num1)\n",
    "print(num2)\n",
    "result = np.sum((num1 == 10) & (num2 > .5))\n",
    "print(\"\\nNumber of instances of a value occurring in one array on the condition of another\\narray: \", result)"
   ]
  },
  {
   "cell_type": "markdown",
   "metadata": {},
   "source": [
    "Q2. Write the NumPy program to convert a Python dictionary to a\n",
    "Numpy ndarray ?\n",
    "    \n",
    "    Original dictionary-\n",
    "    {'column0': {'a': 1, 'b': 0.0, 'c': 0.0, 'd': 2.0},\n",
    "    'column1': {'a': 3.0, 'b': 1, 'c': 0.0, 'd': -1.0},\n",
    "    'column2': {'a': 4, 'b': 1, 'c': 5.0, 'd': -1.0},\n",
    "    'column3': {'a': 3.0, 'b': -1.0, 'c': -1.0, 'd': -1.0}}\n",
    "    Type: <class 'dict'>\n",
    "    ndarray-\n",
    "    [[ 1. 0. 0. 2.]\n",
    "    [ 3. 1. 0. -1.]\n",
    "    [ 4. 1. 5. -1.]\n",
    "    [ 3. -1. -1. -1.]]\n",
    "    Type: <class 'numpy.ndarray'>\n"
   ]
  },
  {
   "cell_type": "code",
   "execution_count": 19,
   "metadata": {},
   "outputs": [
    {
     "name": "stdout",
     "output_type": "stream",
     "text": [
      "\n",
      "Original dictionary:\n",
      "{'column0': {'a': 1, 'b': 0.0, 'c': 0.0, 'd': 2.0}, 'column1': {'a': 3.0, 'b': 1, 'c': 0.0, 'd': -1.0}, 'column2': {'a': 4, 'b': 1, 'c': 5.0, 'd': -1.0}, 'column3': {'a': 3.0, 'b': -1.0, 'c': -1.0, 'd': -1.0}}\n",
      "Type:  <class 'dict'>\n",
      "\n",
      "ndarray:\n",
      "[[ 1.  0.  0.  2.]\n",
      " [ 3.  1.  0. -1.]\n",
      " [ 4.  1.  5. -1.]\n",
      " [ 3. -1. -1. -1.]]\n",
      "Type:  <class 'numpy.ndarray'>\n"
     ]
    }
   ],
   "source": [
    "dic = \"\"\"{\"column0\":{\"a\":1,\"b\":0.0,\"c\":0.0,\"d\":2.0},\n",
    "   \"column1\":{\"a\":3.0,\"b\":1,\"c\":0.0,\"d\":-1.0},\n",
    "   \"column2\":{\"a\":4,\"b\":1,\"c\":5.0,\"d\":-1.0},\n",
    "   \"column3\":{\"a\":3.0,\"b\":-1.0,\"c\":-1.0,\"d\":-1.0}\n",
    "  }\"\"\"\n",
    "t = literal_eval(dic)\n",
    "print(\"\\nOriginal dictionary:\")\n",
    "print(t)\n",
    "print(\"Type: \",type(t))\n",
    "result_nparra = np.array([[v[j] for j in ['a', 'b', 'c', 'd']] for k, v in t.items()])\n",
    "print(\"\\nndarray:\")\n",
    "print(result_nparra)\n",
    "print(\"Type: \",type(result_nparra))\n"
   ]
  },
  {
   "cell_type": "markdown",
   "metadata": {},
   "source": [
    "Q3. Write the Numpy program to find and store the non-zero unique\n",
    "rows in an array after comparing each row with other row in the\n",
    "given matrix?\n",
    " \n",
    "    Original array-\n",
    "    [[ 1 1 0]\n",
    "    [ 0 0 0]\n",
    "    [ 0 2 3]\n",
    "    [ 0 0 0]\n",
    "    [ 0 -1 1]\n",
    "    [ 0 0 0]]\n",
    "    Non-zero unique rows-\n",
    "    [[ 1 1 0]\n",
    "    [ 0 2 3]\n",
    "    [ 0 -1 1]]"
   ]
  },
  {
   "cell_type": "code",
   "execution_count": 31,
   "metadata": {},
   "outputs": [
    {
     "name": "stdout",
     "output_type": "stream",
     "text": [
      "Original array:\n",
      "[[ 1  1  0]\n",
      " [ 0  0  0]\n",
      " [ 0  2  3]\n",
      " [ 0  0  0]\n",
      " [ 0 -1  1]\n",
      " [ 0  0  0]]\n",
      "\n",
      "Non-zero unique rows:\n",
      "[[ 1  1  0]\n",
      " [ 0  2  3]\n",
      " [ 0 -1  1]]\n"
     ]
    }
   ],
   "source": [
    "num = np.array([[ 1, 1, 0],[ 0, 0, 0],[ 0, 2, 3],[ 0, 0, 0],[ 0, -1, 1],[ 0, 0, 0]])\n",
    "print(\"Original array:\")\n",
    "print(num)\n",
    "temp = {(0, 0, 0)}\n",
    "result = []\n",
    "for idx, row in enumerate(map(tuple, num)):\n",
    "    if row not in temp:\n",
    "        result.append(idx)\n",
    "print(\"\\nNon-zero unique rows:\")\n",
    "print(num[result])\n"
   ]
  },
  {
   "cell_type": "markdown",
   "metadata": {},
   "source": [
    "Q4. Write the NumPy program to multiply the matrix by another matrix\n",
    "of complex numbers and create a new matrix of complex\n",
    "numbers?\n",
    "\n",
    "    Sample outputFirst array-\n",
    "    [ 1.+2.j 3.+4.j]\n",
    "    Second array-\n",
    "    [ 5.+6.j 7.+8.j]\n",
    "    Product of above two arrays-\n",
    "    (70-8j)"
   ]
  },
  {
   "cell_type": "code",
   "execution_count": 32,
   "metadata": {},
   "outputs": [
    {
     "name": "stdout",
     "output_type": "stream",
     "text": [
      "First array:\n",
      "[1.+2.j 3.+4.j]\n",
      "Second array:\n",
      "[5.+6.j 7.+8.j]\n",
      "Product of above two arrays:\n",
      "(70-8j)\n"
     ]
    }
   ],
   "source": [
    "x = np.array([1+2j,3+4j])\n",
    "print(\"First array:\")\n",
    "print(x)\n",
    "y = np.array([5+6j,7+8j])\n",
    "print(\"Second array:\")\n",
    "print(y)\n",
    "z = np.vdot(x, y)\n",
    "print(\"Product of above two arrays:\")\n",
    "print(z)\n"
   ]
  },
  {
   "cell_type": "markdown",
   "metadata": {},
   "source": [
    "Q5. Write a NumPy program to generate the matrix product of two\n",
    "Arrays?\n",
    "\n",
    "    Sample OutputMatrices and vectors.\n",
    "    x-\n",
    "    [[1, 0], [1, 1]]\n",
    "    y-\n",
    "    [[3, 1], [2, 2]]\n",
    "    Matrix product of above two arrays-\n",
    "    [[3 1]\n",
    "    [5 3]]\n"
   ]
  },
  {
   "cell_type": "code",
   "execution_count": 35,
   "metadata": {},
   "outputs": [
    {
     "name": "stdout",
     "output_type": "stream",
     "text": [
      "Sample Output Matrices and vectors\n",
      "X\n",
      "[[1, 0], [1, 1]]\n",
      "Y\n",
      "[[3, 1], [2, 2]]\n",
      "Matrix product of above two arrays: \n",
      "[[3 1]\n",
      " [5 3]]\n"
     ]
    }
   ],
   "source": [
    "X = [[1,0],[1,1]]\n",
    "Y = [[3,1],[2,2]]\n",
    "print('Sample Output Matrices and vectors')\n",
    "print('X')\n",
    "print(X)\n",
    "print('Y')\n",
    "print(Y)\n",
    "print('Matrix product of above two arrays: ')\n",
    "print(np.matmul(X,Y))"
   ]
  },
  {
   "cell_type": "markdown",
   "metadata": {},
   "source": [
    "Q6. Write the NumPy program to find roots of the following\n",
    "Polynomials?\n",
    "\n",
    "    a) (x\n",
    "    2\n",
    "    - 4x + 7)\n",
    "    b) x4\n",
    "    - 11x3 + 9x2 + 11x ? 10\n",
    "    Sample outputRoots of the first polynomial-\n",
    "    [ 1. 1.]\n",
    "    Roots of the second polynomial-\n",
    "    [ 11.04461946+0.j -0.87114210+0.j 0.91326132+0.4531004j\n",
    "    0.91326132-0.4531004j ]"
   ]
  },
  {
   "cell_type": "code",
   "execution_count": 36,
   "metadata": {},
   "outputs": [
    {
     "name": "stdout",
     "output_type": "stream",
     "text": [
      "Roots of the first polynomial:\n",
      "[1. 1.]\n",
      "Roots of the second polynomial:\n",
      "[11.04461946+0.j        -0.8711421 +0.j         0.91326132+0.4531004j\n",
      "  0.91326132-0.4531004j]\n"
     ]
    }
   ],
   "source": [
    "print(\"Roots of the first polynomial: \")\n",
    "print(np.roots([1, -2, 1]))\n",
    "print(\"Roots of the second polynomial: \")\n",
    "print(np.roots([1, -12, 10, 7, -10]))\n"
   ]
  },
  {
   "cell_type": "markdown",
   "metadata": {},
   "source": [
    "Q7. Write the NumPy program to calculate inverse of sine, cosine,\n",
    "and inverse tangent for all elements in a given array?\n",
    "\n",
    "    Sample outputInverse sine- [-1.57079633 0. 1.57079633]\n",
    "    Inverse cosine- [3.14159265 1.57079633 0. ]\n",
    "    Inverse tangent- [-0.78539816 0. 0.78539816]"
   ]
  },
  {
   "cell_type": "code",
   "execution_count": 37,
   "metadata": {},
   "outputs": [
    {
     "name": "stdout",
     "output_type": "stream",
     "text": [
      "Inverse sine: [-1.57079633  0.          1.57079633]\n",
      "Inverse cosine: [3.14159265 1.57079633 0.        ]\n",
      "Inverse tangent: [-0.78539816  0.          0.78539816]\n"
     ]
    }
   ],
   "source": [
    "arr = np.array([-1., 0, 1.])\n",
    "print(\"Inverse sine:\", np.arcsin(arr))\n",
    "print(\"Inverse cosine:\", np.arccos(arr))\n",
    "print(\"Inverse tangent:\", np.arctan(arr))\n"
   ]
  },
  {
   "cell_type": "markdown",
   "metadata": {},
   "source": [
    "Q8. Write the NumPy program to calculate the difference between in\n",
    "neighbouring elements, element-wise of a given array?\n",
    "\n",
    "    Sample outputOriginal array-\n",
    "    [1 3 5 7 0]\n",
    "    Difference between neighbouring elements, element-wise of the said array-\n",
    "    [ 2 2 2 -7]"
   ]
  },
  {
   "cell_type": "code",
   "execution_count": 46,
   "metadata": {},
   "outputs": [
    {
     "name": "stdout",
     "output_type": "stream",
     "text": [
      "Original array: \n",
      "[1 3 5 7 0]\n",
      "Difference between neighboring elements, element-wise of the said array.\n",
      "[ 2  2  2 -7]\n"
     ]
    }
   ],
   "source": [
    "x = np.array([1, 3, 5, 7, 0])\n",
    "print(\"Original array: \")\n",
    "print(x)\n",
    "print(\"Difference between neighboring elements, element-wise of the said array.\")\n",
    "print(np.diff(x))\n"
   ]
  },
  {
   "cell_type": "markdown",
   "metadata": {},
   "source": [
    "Q9. Write the Python program to find the maximum and the minimum\n",
    "value of a given flattened array?\n",
    "\n",
    "    Expected OutputOriginal flattened array-\n",
    "    [[0 1]\n",
    "    [2 3]]\n",
    "    Maximum value of the above flattened array3\n",
    "    Minimum value of the above flattened array0"
   ]
  },
  {
   "cell_type": "code",
   "execution_count": 59,
   "metadata": {},
   "outputs": [
    {
     "name": "stdout",
     "output_type": "stream",
     "text": [
      "Original flatened array:\n",
      " [[0 1]\n",
      " [2 3]]\n",
      "Maximum value of the above flatened array: 3\n",
      "Maximum value of the above flattened array: 0\n"
     ]
    }
   ],
   "source": [
    "num = np.arange(4).reshape(2,-1)\n",
    "print('Original flatened array:\\n',num)\n",
    "print('Maximum value of the above flatened array:',np.max(num))\n",
    "print('Maximum value of the above flattened array:',np.min(num))\n"
   ]
  },
  {
   "cell_type": "markdown",
   "metadata": {},
   "source": [
    "Q10. Write the NumPy program to calculate the difference between in\n",
    "the maximum and the minimum values of a given array along the\n",
    "second axis ?\n",
    "\n",
    "    Expected OutputOriginal array-\n",
    "    [[ 0 1 2 3 4 5]\n",
    "    [ 6 7 8 9 10 11]]\n",
    "    Difference between the maximum and the minimum values of the said array-\n",
    "    [5 5]\n"
   ]
  },
  {
   "cell_type": "code",
   "execution_count": 73,
   "metadata": {},
   "outputs": [
    {
     "name": "stdout",
     "output_type": "stream",
     "text": [
      "Original Array:\n",
      "[[ 0  1  2  3  4  5]\n",
      " [ 6  7  8  9 10 11]]\n",
      "\n",
      "Difference between the maximum and he minimum valuse of the said array: \n",
      "[5 5]\n"
     ]
    }
   ],
   "source": [
    "\n",
    "num = np.arange(0,12).reshape(2,-1)\n",
    "print('Original Array:')\n",
    "print(num)\n",
    "num1 = np.ptp(num,axis=1)\n",
    "num2 = np.amax(num,axis = 1) - np.amin(num, axis =1)\n",
    "assert np.allclose(num1,num2)\n",
    "print('\\nDifference between the maximum and he minimum valuse of the said array: ')\n",
    "print(num1)"
   ]
  },
  {
   "cell_type": "markdown",
   "metadata": {},
   "source": [
    " Q11. Write the NumPy program to compute the weighted of the given\n",
    "array ?\n",
    "\n",
    "    Sample OutputOriginal array-\n",
    "    [0 1 2 3 4]\n",
    "    Weighted average of the said array2.6666666666666665"
   ]
  },
  {
   "cell_type": "code",
   "execution_count": 74,
   "metadata": {},
   "outputs": [
    {
     "name": "stdout",
     "output_type": "stream",
     "text": [
      "\n",
      "Original array:\n",
      "[0 1 2 3 4]\n",
      "\n",
      "Weighted average of the said array:\n",
      "2.6666666666666665\n"
     ]
    }
   ],
   "source": [
    "x = np.arange(5)\n",
    "print(\"\\nOriginal array:\")\n",
    "print(x)\n",
    "weights = np.arange(1, 6)\n",
    "x1 = np.average(x, weights=weights)\n",
    "x2 = (x*(weights/weights.sum())).sum()\n",
    "assert np.allclose(x1, x2)\n",
    "print(\"\\nWeighted average of the said array:\")\n",
    "print(x1)\n"
   ]
  },
  {
   "cell_type": "markdown",
   "metadata": {},
   "source": [
    "Q12. Write the NumPy program to compute the mean, standard\n",
    "deviation, and the variance of a given array along the second\n",
    "axis?\n",
    "\n",
    "    Sample outputOriginal array-\n",
    "    [0 1 2 3 4 5]\n",
    "    Mean- 2.5\n",
    "    std- 1\n",
    "    variance- 2.9166666666666665"
   ]
  },
  {
   "cell_type": "code",
   "execution_count": 77,
   "metadata": {},
   "outputs": [
    {
     "name": "stdout",
     "output_type": "stream",
     "text": [
      "Original array\n",
      "[0 1 2 3 4 5]\n",
      "Mean: 2.5\n",
      "Std:  1.707825127659933\n",
      "Variance:  2.9166666666666665\n"
     ]
    }
   ],
   "source": [
    "num = np.arange(6)\n",
    "print('Original array')\n",
    "print(num)\n",
    "print('Mean:',np.mean(num))\n",
    "print( 'Std: ', np.std(num))\n",
    "print('Variance: ', np.var(num))"
   ]
  },
  {
   "cell_type": "markdown",
   "metadata": {},
   "source": [
    "Q13. Write the Numpy program to compute the covariance matrix of the\n",
    "two given arrays?\n",
    "    \n",
    "    Sample OutputOriginal array1-\n",
    "    [0 1 2]\n",
    "    Original array1-\n",
    "    [2 1 0]\n",
    "    Covariance matrix of the said arrays-\n",
    "    [[ 1. -1.]\n",
    "    [-1. 1.]]"
   ]
  },
  {
   "cell_type": "code",
   "execution_count": null,
   "metadata": {},
   "outputs": [],
   "source": []
  },
  {
   "cell_type": "markdown",
   "metadata": {},
   "source": [
    "Q14. Write a NumPy program to compute the cross-correlation of two\n",
    "given arrays ?\n",
    "\n",
    "    Sample OutputOriginal array1-\n",
    "    [0 1 3]\n",
    "    Original array1-\n",
    "    [2 4 5]\n",
    "    Cross-correlation of the said arrays-\n",
    "    [ [ 2.33333333 2.16666667 ]\n",
    "     [ 2.16666667 2.33333333 ] ]"
   ]
  },
  {
   "cell_type": "code",
   "execution_count": 79,
   "metadata": {},
   "outputs": [
    {
     "name": "stdout",
     "output_type": "stream",
     "text": [
      "Original array1: \n",
      "[0 1 3]\n",
      "Original array2: \n",
      "[2 4 5]\n",
      "Cross- correlation of the said arrays:\n",
      "[[2.33333333 2.16666667]\n",
      " [2.16666667 2.33333333]]\n"
     ]
    }
   ],
   "source": [
    "arr1 = np.array([0,1,3])\n",
    "print('Original array1: ')\n",
    "print(arr1)\n",
    "arr2 = np.array([2,4,5])\n",
    "print('Original array2: ')\n",
    "print(arr2)\n",
    "print('Cross- correlation of the said arrays:')\n",
    "print(np.cov(arr1,arr2))"
   ]
  },
  {
   "cell_type": "markdown",
   "metadata": {},
   "source": [
    "Q15. Write the NumPy program to compute Pearson product-moment\n",
    "correlation coefficients of two given arrays?\n",
    "\n",
    "    Sample OutputOriginal array1-\n",
    "    [0 1 3]\n",
    "    Original array1-\n",
    "    [2 4 5]\n",
    "    Pearson product-moment correlation coefficients of the said arrays-\n",
    "    [[1. 0.92857143]\n",
    "    [0.92857143 1. ]]"
   ]
  },
  {
   "cell_type": "code",
   "execution_count": 80,
   "metadata": {},
   "outputs": [
    {
     "name": "stdout",
     "output_type": "stream",
     "text": [
      "Original array1: \n",
      "[0 1 3]\n",
      "Original array2: \n",
      "Pearson product-moment correlation coefficients of the said arrays: \n",
      "[[1.         0.92857143]\n",
      " [0.92857143 1.        ]]\n"
     ]
    }
   ],
   "source": [
    "arr1 = np.array([0,1,3])\n",
    "print('Original array1: ')\n",
    "print(arr1)\n",
    "arr2 = np.array([2,4,5])\n",
    "print('Original array2: ')\n",
    "print('Pearson product-moment correlation coefficients of the said arrays: ')\n",
    "print(np.corrcoef(arr1,arr2))"
   ]
  },
  {
   "cell_type": "markdown",
   "metadata": {},
   "source": [
    "Q16. Write the python program to count the number of occurrences of\n",
    "each value in a given array of non-negative integers?\n",
    " \n",
    "Note: bincount() Function- It count the occurrence of each value in an array of the\n",
    "non- negative integers in the range of the array between the minimum and maximum values\n",
    "including the values that did not occur.\n",
    "\n",
    "    Sample OutputOriginal array-\n",
    "    [0, 1, 6, 1, 4, 1, 2, 2, 7]\n",
    "    Number of occurrences of each value in array-\n",
    "    [1 3 2 0 1 0 1 1]"
   ]
  },
  {
   "cell_type": "code",
   "execution_count": 83,
   "metadata": {},
   "outputs": [
    {
     "name": "stdout",
     "output_type": "stream",
     "text": [
      "Original array: \n",
      "[0 1 6 1 4 1 2 2 7]\n",
      "Number of occurrences of each value in array: \n",
      "[1 3 2 0 1 0 1 1]\n"
     ]
    }
   ],
   "source": [
    "arr = np.array([0,1,6,1,4,1,2,2,7])\n",
    "print('Original array: ')\n",
    "print(arr)\n",
    "print('Number of occurrences of each value in array: ')\n",
    "print(np.bincount(arr))"
   ]
  },
  {
   "cell_type": "markdown",
   "metadata": {},
   "source": [
    "Q17. Write a Numpy program to compute the histogram of nums\n",
    "against the bins?\n",
    "\n",
    "    Sample Outputnums- [0.5 0.7 1. 1.2 1.3 2.1]\n",
    "    P a g e 29 | 44\n",
    "    bins- [0 1 2 3]\n",
    "    Result- (array([2, 3, 1], dtype=int64), array([0, 1, 2, 3]))"
   ]
  },
  {
   "cell_type": "code",
   "execution_count": 88,
   "metadata": {},
   "outputs": [
    {
     "name": "stdout",
     "output_type": "stream",
     "text": [
      "Num: [0.5 0.7 1.  1.2 1.3 2.1]\n",
      "Bins: [0, 1, 2, 3]\n",
      "Result:  (array([2, 3, 1], dtype=int64), array([0, 1, 2, 3]))\n"
     ]
    },
    {
     "data": {
      "image/png": "[encoded data removed]",
      "text/plain": [
       "<Figure size 432x288 with 1 Axes>"
      ]
     },
     "metadata": {
      "needs_background": "light"
     },
     "output_type": "display_data"
    }
   ],
   "source": [
    "import matplotlib.pyplot as plt \n",
    "Num = np.array([0.5,0.7,1.,1.2,1.3,2.1])\n",
    "Bins = [0,1,2,3]\n",
    "print('Num:',Num)\n",
    "print('Bins:',Bins)\n",
    "print('Result: ', np.histogram(Num,Bins))\n",
    "plt.hist(Num,Bins,color='r')\n",
    "plt.show()"
   ]
  },
  {
   "cell_type": "markdown",
   "metadata": {},
   "source": [
    "## Great Job!"
   ]
  }
 ],
 "metadata": {
  "kernelspec": {
   "display_name": "Python 3",
   "language": "python",
   "name": "python3"
  },
  "language_info": {
   "codemirror_mode": {
    "name": "ipython",
    "version": 3
   },
   "file_extension": ".py",
   "mimetype": "text/x-python",
   "name": "python",
   "nbconvert_exporter": "python",
   "pygments_lexer": "ipython3",
   "version": "3.7.4"
  }
 },
 "nbformat": 4,
 "nbformat_minor": 2
}
